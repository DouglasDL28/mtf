{
 "metadata": {
  "language_info": {
   "codemirror_mode": {
    "name": "ipython",
    "version": 3
   },
   "file_extension": ".py",
   "mimetype": "text/x-python",
   "name": "python",
   "nbconvert_exporter": "python",
   "pygments_lexer": "ipython3",
   "version": "3.7.9"
  },
  "orig_nbformat": 2,
  "kernelspec": {
   "name": "python379jvsc74a57bd0c7bbde9d0c0f2c2a198fd7b8b6b72a41b24eb5a40f194e51decf63c1af9736ae",
   "display_name": "Python 3.7.9 64-bit ('venv': venv)",
   "language": "python"
  }
 },
 "nbformat": 4,
 "nbformat_minor": 2,
 "cells": [
  {
   "source": [
    "# Proyecto MTF\n",
    "#### Universidad del Valle de Guatemala\n",
    "#### Análisis y Diseño de Algoritmos\n",
    "#### Douglas de León Molina - 18037"
   ],
   "cell_type": "markdown",
   "metadata": {}
  },
  {
   "cell_type": "code",
   "execution_count": 74,
   "metadata": {},
   "outputs": [],
   "source": [
    "def mtf(_list:list, element:int):\n",
    "    \"\"\" Move To Front algorithm. \"\"\"\n",
    "\n",
    "    cost = 0\n",
    "    for i, el in enumerate(_list):\n",
    "        if el == element:\n",
    "            cost = i + 1\n",
    "            sel = _list.pop(i)\n",
    "            _list.insert(0, sel)\n",
    "\n",
    "            break\n",
    "\n",
    "    return _list, cost"
   ]
  },
  {
   "source": [
    "## Inciso A"
   ],
   "cell_type": "markdown",
   "metadata": {}
  },
  {
   "cell_type": "code",
   "execution_count": 75,
   "metadata": {},
   "outputs": [
    {
     "output_type": "stream",
     "name": "stdout",
     "text": [
      "Initial config: [0, 1, 2, 3, 4]\nRequest: 0\nResulting list: [0, 1, 2, 3, 4]\nCost = 1 \n\nInitial config: [0, 1, 2, 3, 4]\nRequest: 1\nResulting list: [1, 0, 2, 3, 4]\nCost = 2 \n\nInitial config: [1, 0, 2, 3, 4]\nRequest: 2\nResulting list: [2, 1, 0, 3, 4]\nCost = 3 \n\nInitial config: [2, 1, 0, 3, 4]\nRequest: 3\nResulting list: [3, 2, 1, 0, 4]\nCost = 4 \n\nInitial config: [3, 2, 1, 0, 4]\nRequest: 4\nResulting list: [4, 3, 2, 1, 0]\nCost = 5 \n\nInitial config: [4, 3, 2, 1, 0]\nRequest: 0\nResulting list: [0, 4, 3, 2, 1]\nCost = 5 \n\nInitial config: [0, 4, 3, 2, 1]\nRequest: 1\nResulting list: [1, 0, 4, 3, 2]\nCost = 5 \n\nInitial config: [1, 0, 4, 3, 2]\nRequest: 2\nResulting list: [2, 1, 0, 4, 3]\nCost = 5 \n\nInitial config: [2, 1, 0, 4, 3]\nRequest: 3\nResulting list: [3, 2, 1, 0, 4]\nCost = 5 \n\nInitial config: [3, 2, 1, 0, 4]\nRequest: 4\nResulting list: [4, 3, 2, 1, 0]\nCost = 5 \n\nInitial config: [4, 3, 2, 1, 0]\nRequest: 0\nResulting list: [0, 4, 3, 2, 1]\nCost = 5 \n\nInitial config: [0, 4, 3, 2, 1]\nRequest: 1\nResulting list: [1, 0, 4, 3, 2]\nCost = 5 \n\nInitial config: [1, 0, 4, 3, 2]\nRequest: 2\nResulting list: [2, 1, 0, 4, 3]\nCost = 5 \n\nInitial config: [2, 1, 0, 4, 3]\nRequest: 3\nResulting list: [3, 2, 1, 0, 4]\nCost = 5 \n\nInitial config: [3, 2, 1, 0, 4]\nRequest: 4\nResulting list: [4, 3, 2, 1, 0]\nCost = 5 \n\nInitial config: [4, 3, 2, 1, 0]\nRequest: 0\nResulting list: [0, 4, 3, 2, 1]\nCost = 5 \n\nInitial config: [0, 4, 3, 2, 1]\nRequest: 1\nResulting list: [1, 0, 4, 3, 2]\nCost = 5 \n\nInitial config: [1, 0, 4, 3, 2]\nRequest: 2\nResulting list: [2, 1, 0, 4, 3]\nCost = 5 \n\nInitial config: [2, 1, 0, 4, 3]\nRequest: 3\nResulting list: [3, 2, 1, 0, 4]\nCost = 5 \n\nInitial config: [3, 2, 1, 0, 4]\nRequest: 4\nResulting list: [4, 3, 2, 1, 0]\nCost = 5 \n\nTOTAL COST = 90\n"
     ]
    }
   ],
   "source": [
    "config = [0, 1, 2, 3, 4]\n",
    "requests = [0, 1, 2, 3, 4, 0, 1, 2, 3, 4, 0, 1, 2, 3, 4, 0, 1, 2, 3, 4]\n",
    "\n",
    "total_cost = 0\n",
    "for req in requests:\n",
    "    print(\"Initial config:\", config)\n",
    "    print(\"Request:\", req)\n",
    "\n",
    "    config, cost = mtf(config, req)\n",
    "\n",
    "    print(\"Resulting list:\", config)\n",
    "    print(\"Cost =\", cost, \"\\n\")\n",
    "    total_cost += cost\n",
    "\n",
    "print(\"TOTAL COST =\", total_cost)"
   ]
  },
  {
   "source": [
    "## Inciso B"
   ],
   "cell_type": "markdown",
   "metadata": {}
  },
  {
   "cell_type": "code",
   "execution_count": 64,
   "metadata": {},
   "outputs": [
    {
     "output_type": "stream",
     "name": "stdout",
     "text": [
      "Initial config: [0, 1, 2, 3, 4]\nRequest: 4\nResulting list: [4, 0, 1, 2, 3]\nCost = 5 \n\nInitial config: [4, 0, 1, 2, 3]\nRequest: 3\nResulting list: [1, 4, 0, 2, 3]\nCost = 3 \n\nInitial config: [1, 4, 0, 2, 3]\nRequest: 2\nResulting list: [1, 4, 0, 2, 3]\nCost = 1 \n\nInitial config: [1, 4, 0, 2, 3]\nRequest: 1\nResulting list: [3, 1, 4, 0, 2]\nCost = 5 \n\nInitial config: [3, 1, 4, 0, 2]\nRequest: 0\nResulting list: [0, 3, 1, 4, 2]\nCost = 4 \n\nInitial config: [0, 3, 1, 4, 2]\nRequest: 1\nResulting list: [4, 0, 3, 1, 2]\nCost = 4 \n\nInitial config: [4, 0, 3, 1, 2]\nRequest: 2\nResulting list: [1, 4, 0, 3, 2]\nCost = 4 \n\nInitial config: [1, 4, 0, 3, 2]\nRequest: 3\nResulting list: [3, 1, 4, 0, 2]\nCost = 4 \n\nInitial config: [3, 1, 4, 0, 2]\nRequest: 4\nResulting list: [4, 3, 1, 0, 2]\nCost = 3 \n\nInitial config: [4, 3, 1, 0, 2]\nRequest: 3\nResulting list: [4, 3, 1, 0, 2]\nCost = 1 \n\nInitial config: [4, 3, 1, 0, 2]\nRequest: 2\nResulting list: [3, 4, 1, 0, 2]\nCost = 2 \n\nInitial config: [3, 4, 1, 0, 2]\nRequest: 1\nResulting list: [2, 3, 4, 1, 0]\nCost = 5 \n\nInitial config: [2, 3, 4, 1, 0]\nRequest: 0\nResulting list: [4, 2, 3, 1, 0]\nCost = 3 \n\nInitial config: [4, 2, 3, 1, 0]\nRequest: 1\nResulting list: [3, 4, 2, 1, 0]\nCost = 3 \n\nInitial config: [3, 4, 2, 1, 0]\nRequest: 2\nResulting list: [2, 3, 4, 1, 0]\nCost = 3 \n\nInitial config: [2, 3, 4, 1, 0]\nRequest: 3\nResulting list: [3, 2, 4, 1, 0]\nCost = 2 \n\nInitial config: [3, 2, 4, 1, 0]\nRequest: 4\nResulting list: [3, 2, 4, 1, 0]\nCost = 1 \n\nTOTAL COST = 53\n"
     ]
    }
   ],
   "source": [
    "config = [0, 1, 2, 3, 4]\n",
    "requests = [4, 3, 2, 1, 0, 1, 2, 3, 4, 3, 2, 1, 0, 1, 2, 3, 4]\n",
    "\n",
    "total_cost = 0\n",
    "for req in requests:\n",
    "    print(\"Initial config:\", config)\n",
    "    print(\"Request:\", req)\n",
    "\n",
    "    config, cost = mtf(config, req)\n",
    "\n",
    "    print(\"Resulting list:\", config)\n",
    "    print(\"Cost =\", cost, \"\\n\")\n",
    "    total_cost += cost\n",
    "\n",
    "print(\"TOTAL COST =\", total_cost)"
   ]
  },
  {
   "source": [
    "## Inciso C\n",
    "¿Para qué secuencia de 20 solicitudes se obtiene el mínimo costo total de acceso utilizando el algoritmo MTF para la configuración 0, 1, 2, 3, 4? ¿Cuál sería ese costo total de acceso?"
   ],
   "cell_type": "markdown",
   "metadata": {}
  },
  {
   "cell_type": "code",
   "execution_count": 80,
   "metadata": {},
   "outputs": [
    {
     "output_type": "stream",
     "name": "stdout",
     "text": [
      "El mínimo costo estaría dado por la secuencia: [0, 0, 0, 0, 0, 0, 0, 0, 0, 0, 0, 0, 0, 0, 0, 0, 0, 0, 0, 0]\nInitial config: [0, 1, 2, 3, 4]\nRequest: 0\nResulting list: [0, 1, 2, 3, 4]\nCost = 1 \n\nInitial config: [0, 1, 2, 3, 4]\nRequest: 0\nResulting list: [0, 1, 2, 3, 4]\nCost = 1 \n\nInitial config: [0, 1, 2, 3, 4]\nRequest: 0\nResulting list: [0, 1, 2, 3, 4]\nCost = 1 \n\nInitial config: [0, 1, 2, 3, 4]\nRequest: 0\nResulting list: [0, 1, 2, 3, 4]\nCost = 1 \n\nInitial config: [0, 1, 2, 3, 4]\nRequest: 0\nResulting list: [0, 1, 2, 3, 4]\nCost = 1 \n\nInitial config: [0, 1, 2, 3, 4]\nRequest: 0\nResulting list: [0, 1, 2, 3, 4]\nCost = 1 \n\nInitial config: [0, 1, 2, 3, 4]\nRequest: 0\nResulting list: [0, 1, 2, 3, 4]\nCost = 1 \n\nInitial config: [0, 1, 2, 3, 4]\nRequest: 0\nResulting list: [0, 1, 2, 3, 4]\nCost = 1 \n\nInitial config: [0, 1, 2, 3, 4]\nRequest: 0\nResulting list: [0, 1, 2, 3, 4]\nCost = 1 \n\nInitial config: [0, 1, 2, 3, 4]\nRequest: 0\nResulting list: [0, 1, 2, 3, 4]\nCost = 1 \n\nInitial config: [0, 1, 2, 3, 4]\nRequest: 0\nResulting list: [0, 1, 2, 3, 4]\nCost = 1 \n\nInitial config: [0, 1, 2, 3, 4]\nRequest: 0\nResulting list: [0, 1, 2, 3, 4]\nCost = 1 \n\nInitial config: [0, 1, 2, 3, 4]\nRequest: 0\nResulting list: [0, 1, 2, 3, 4]\nCost = 1 \n\nInitial config: [0, 1, 2, 3, 4]\nRequest: 0\nResulting list: [0, 1, 2, 3, 4]\nCost = 1 \n\nInitial config: [0, 1, 2, 3, 4]\nRequest: 0\nResulting list: [0, 1, 2, 3, 4]\nCost = 1 \n\nInitial config: [0, 1, 2, 3, 4]\nRequest: 0\nResulting list: [0, 1, 2, 3, 4]\nCost = 1 \n\nInitial config: [0, 1, 2, 3, 4]\nRequest: 0\nResulting list: [0, 1, 2, 3, 4]\nCost = 1 \n\nInitial config: [0, 1, 2, 3, 4]\nRequest: 0\nResulting list: [0, 1, 2, 3, 4]\nCost = 1 \n\nInitial config: [0, 1, 2, 3, 4]\nRequest: 0\nResulting list: [0, 1, 2, 3, 4]\nCost = 1 \n\nInitial config: [0, 1, 2, 3, 4]\nRequest: 0\nResulting list: [0, 1, 2, 3, 4]\nCost = 1 \n\nTOTAL COST = 20\n"
     ]
    }
   ],
   "source": [
    "config = [0, 1, 2, 3, 4]\n",
    "best_case = [0, 0, 0, 0, 0, 0, 0, 0, 0, 0, 0, 0, 0, 0, 0, 0, 0, 0, 0, 0]\n",
    "\n",
    "print(\"El mínimo costo estaría dado por la secuencia:\", best_case)\n",
    "\n",
    "total_cost = 0\n",
    "for req in best_case:\n",
    "    print(\"Initial config:\", config)\n",
    "    print(\"Request:\", req)\n",
    "\n",
    "    config, cost = mtf(config, req)\n",
    "\n",
    "    print(\"Resulting list:\", config)\n",
    "    print(\"Cost =\", cost, \"\\n\")\n",
    "    total_cost += cost\n",
    "\n",
    "print(\"TOTAL COST =\", total_cost)"
   ]
  },
  {
   "source": [
    "## Inciso D\n",
    "\n",
    "¿Para qué secuencia de 20 solicitudes se obtiene el peor de los casos utilizando el algoritmo MTF para la configuración 0, 1, 2, 3, 4? ¿Cuál sería ese costo total de acceso?"
   ],
   "cell_type": "markdown",
   "metadata": {}
  },
  {
   "cell_type": "code",
   "execution_count": 78,
   "metadata": {},
   "outputs": [
    {
     "output_type": "stream",
     "name": "stdout",
     "text": [
      "El máximo costo estaría dado por la secuencia: [4, 3, 2, 1, 0, 4, 3, 2, 1, 0, 4, 3, 2, 1, 0, 4, 3, 2, 1, 0]\nInitial config: [0, 1, 2, 3, 4]\nRequest: 4\nResulting list: [4, 0, 1, 2, 3]\nCost = 5 \n\nInitial config: [4, 0, 1, 2, 3]\nRequest: 3\nResulting list: [3, 4, 0, 1, 2]\nCost = 5 \n\nInitial config: [3, 4, 0, 1, 2]\nRequest: 2\nResulting list: [2, 3, 4, 0, 1]\nCost = 5 \n\nInitial config: [2, 3, 4, 0, 1]\nRequest: 1\nResulting list: [1, 2, 3, 4, 0]\nCost = 5 \n\nInitial config: [1, 2, 3, 4, 0]\nRequest: 0\nResulting list: [0, 1, 2, 3, 4]\nCost = 5 \n\nInitial config: [0, 1, 2, 3, 4]\nRequest: 4\nResulting list: [4, 0, 1, 2, 3]\nCost = 5 \n\nInitial config: [4, 0, 1, 2, 3]\nRequest: 3\nResulting list: [3, 4, 0, 1, 2]\nCost = 5 \n\nInitial config: [3, 4, 0, 1, 2]\nRequest: 2\nResulting list: [2, 3, 4, 0, 1]\nCost = 5 \n\nInitial config: [2, 3, 4, 0, 1]\nRequest: 1\nResulting list: [1, 2, 3, 4, 0]\nCost = 5 \n\nInitial config: [1, 2, 3, 4, 0]\nRequest: 0\nResulting list: [0, 1, 2, 3, 4]\nCost = 5 \n\nInitial config: [0, 1, 2, 3, 4]\nRequest: 4\nResulting list: [4, 0, 1, 2, 3]\nCost = 5 \n\nInitial config: [4, 0, 1, 2, 3]\nRequest: 3\nResulting list: [3, 4, 0, 1, 2]\nCost = 5 \n\nInitial config: [3, 4, 0, 1, 2]\nRequest: 2\nResulting list: [2, 3, 4, 0, 1]\nCost = 5 \n\nInitial config: [2, 3, 4, 0, 1]\nRequest: 1\nResulting list: [1, 2, 3, 4, 0]\nCost = 5 \n\nInitial config: [1, 2, 3, 4, 0]\nRequest: 0\nResulting list: [0, 1, 2, 3, 4]\nCost = 5 \n\nInitial config: [0, 1, 2, 3, 4]\nRequest: 4\nResulting list: [4, 0, 1, 2, 3]\nCost = 5 \n\nInitial config: [4, 0, 1, 2, 3]\nRequest: 3\nResulting list: [3, 4, 0, 1, 2]\nCost = 5 \n\nInitial config: [3, 4, 0, 1, 2]\nRequest: 2\nResulting list: [2, 3, 4, 0, 1]\nCost = 5 \n\nInitial config: [2, 3, 4, 0, 1]\nRequest: 1\nResulting list: [1, 2, 3, 4, 0]\nCost = 5 \n\nInitial config: [1, 2, 3, 4, 0]\nRequest: 0\nResulting list: [0, 1, 2, 3, 4]\nCost = 5 \n\nTOTAL COST = 100\n"
     ]
    }
   ],
   "source": [
    "config = [0, 1, 2, 3, 4]\n",
    "worst_case = [4, 3, 2, 1, 0, 4, 3, 2, 1, 0, 4, 3, 2, 1, 0, 4, 3, 2, 1, 0]\n",
    "\n",
    "print(\"El máximo costo estaría dado por la secuencia:\", worst_case)\n",
    "\n",
    "total_cost = 0\n",
    "for req in worst_case:\n",
    "    print(\"Initial config:\", config)\n",
    "    print(\"Request:\", req)\n",
    "\n",
    "    config, cost = mtf(config, req)\n",
    "\n",
    "    print(\"Resulting list:\", config)\n",
    "    print(\"Cost =\", cost, \"\\n\")\n",
    "    total_cost += cost\n",
    "\n",
    "print(\"TOTAL COST =\", total_cost)\n"
   ]
  },
  {
   "source": [
    "## Inciso E"
   ],
   "cell_type": "markdown",
   "metadata": {}
  },
  {
   "cell_type": "code",
   "execution_count": 81,
   "metadata": {},
   "outputs": [
    {
     "output_type": "stream",
     "name": "stdout",
     "text": [
      "Initial config: [0, 1, 2, 3, 4]\nRequest: 2\nResulting list: [2, 0, 1, 3, 4]\nCost = 3 \n\nInitial config: [2, 0, 1, 3, 4]\nRequest: 2\nResulting list: [2, 0, 1, 3, 4]\nCost = 1 \n\nInitial config: [2, 0, 1, 3, 4]\nRequest: 2\nResulting list: [2, 0, 1, 3, 4]\nCost = 1 \n\nInitial config: [2, 0, 1, 3, 4]\nRequest: 2\nResulting list: [2, 0, 1, 3, 4]\nCost = 1 \n\nInitial config: [2, 0, 1, 3, 4]\nRequest: 2\nResulting list: [2, 0, 1, 3, 4]\nCost = 1 \n\nInitial config: [2, 0, 1, 3, 4]\nRequest: 2\nResulting list: [2, 0, 1, 3, 4]\nCost = 1 \n\nInitial config: [2, 0, 1, 3, 4]\nRequest: 2\nResulting list: [2, 0, 1, 3, 4]\nCost = 1 \n\nInitial config: [2, 0, 1, 3, 4]\nRequest: 2\nResulting list: [2, 0, 1, 3, 4]\nCost = 1 \n\nInitial config: [2, 0, 1, 3, 4]\nRequest: 2\nResulting list: [2, 0, 1, 3, 4]\nCost = 1 \n\nInitial config: [2, 0, 1, 3, 4]\nRequest: 2\nResulting list: [2, 0, 1, 3, 4]\nCost = 1 \n\nInitial config: [2, 0, 1, 3, 4]\nRequest: 2\nResulting list: [2, 0, 1, 3, 4]\nCost = 1 \n\nInitial config: [2, 0, 1, 3, 4]\nRequest: 2\nResulting list: [2, 0, 1, 3, 4]\nCost = 1 \n\nInitial config: [2, 0, 1, 3, 4]\nRequest: 2\nResulting list: [2, 0, 1, 3, 4]\nCost = 1 \n\nInitial config: [2, 0, 1, 3, 4]\nRequest: 2\nResulting list: [2, 0, 1, 3, 4]\nCost = 1 \n\nInitial config: [2, 0, 1, 3, 4]\nRequest: 2\nResulting list: [2, 0, 1, 3, 4]\nCost = 1 \n\nInitial config: [2, 0, 1, 3, 4]\nRequest: 2\nResulting list: [2, 0, 1, 3, 4]\nCost = 1 \n\nInitial config: [2, 0, 1, 3, 4]\nRequest: 2\nResulting list: [2, 0, 1, 3, 4]\nCost = 1 \n\nInitial config: [2, 0, 1, 3, 4]\nRequest: 2\nResulting list: [2, 0, 1, 3, 4]\nCost = 1 \n\nInitial config: [2, 0, 1, 3, 4]\nRequest: 2\nResulting list: [2, 0, 1, 3, 4]\nCost = 1 \n\nInitial config: [2, 0, 1, 3, 4]\nRequest: 2\nResulting list: [2, 0, 1, 3, 4]\nCost = 1 \n\nTOTAL COST = 22\n"
     ]
    }
   ],
   "source": [
    "config = [0, 1, 2, 3, 4]\n",
    "requests = [2, 2, 2, 2, 2, 2, 2, 2, 2, 2, 2, 2, 2, 2, 2, 2, 2, 2, 2, 2]\n",
    "\n",
    "total_cost = 0\n",
    "for req in requests:\n",
    "    print(\"Initial config:\", config)\n",
    "    print(\"Request:\", req)\n",
    "\n",
    "    config, cost = mtf(config, req)\n",
    "\n",
    "    print(\"Resulting list:\", config)\n",
    "    print(\"Cost =\", cost, \"\\n\")\n",
    "    total_cost += cost\n",
    "\n",
    "print(\"TOTAL COST =\", total_cost)"
   ]
  },
  {
   "cell_type": "code",
   "execution_count": 82,
   "metadata": {},
   "outputs": [
    {
     "output_type": "stream",
     "name": "stdout",
     "text": [
      "Initial config: [0, 1, 2, 3, 4]\nRequest: 3\nResulting list: [3, 0, 1, 2, 4]\nCost = 4 \n\nInitial config: [3, 0, 1, 2, 4]\nRequest: 3\nResulting list: [3, 0, 1, 2, 4]\nCost = 1 \n\nInitial config: [3, 0, 1, 2, 4]\nRequest: 3\nResulting list: [3, 0, 1, 2, 4]\nCost = 1 \n\nInitial config: [3, 0, 1, 2, 4]\nRequest: 3\nResulting list: [3, 0, 1, 2, 4]\nCost = 1 \n\nInitial config: [3, 0, 1, 2, 4]\nRequest: 3\nResulting list: [3, 0, 1, 2, 4]\nCost = 1 \n\nInitial config: [3, 0, 1, 2, 4]\nRequest: 3\nResulting list: [3, 0, 1, 2, 4]\nCost = 1 \n\nInitial config: [3, 0, 1, 2, 4]\nRequest: 3\nResulting list: [3, 0, 1, 2, 4]\nCost = 1 \n\nInitial config: [3, 0, 1, 2, 4]\nRequest: 3\nResulting list: [3, 0, 1, 2, 4]\nCost = 1 \n\nInitial config: [3, 0, 1, 2, 4]\nRequest: 3\nResulting list: [3, 0, 1, 2, 4]\nCost = 1 \n\nInitial config: [3, 0, 1, 2, 4]\nRequest: 3\nResulting list: [3, 0, 1, 2, 4]\nCost = 1 \n\nInitial config: [3, 0, 1, 2, 4]\nRequest: 3\nResulting list: [3, 0, 1, 2, 4]\nCost = 1 \n\nInitial config: [3, 0, 1, 2, 4]\nRequest: 3\nResulting list: [3, 0, 1, 2, 4]\nCost = 1 \n\nInitial config: [3, 0, 1, 2, 4]\nRequest: 3\nResulting list: [3, 0, 1, 2, 4]\nCost = 1 \n\nInitial config: [3, 0, 1, 2, 4]\nRequest: 3\nResulting list: [3, 0, 1, 2, 4]\nCost = 1 \n\nInitial config: [3, 0, 1, 2, 4]\nRequest: 3\nResulting list: [3, 0, 1, 2, 4]\nCost = 1 \n\nInitial config: [3, 0, 1, 2, 4]\nRequest: 3\nResulting list: [3, 0, 1, 2, 4]\nCost = 1 \n\nInitial config: [3, 0, 1, 2, 4]\nRequest: 3\nResulting list: [3, 0, 1, 2, 4]\nCost = 1 \n\nInitial config: [3, 0, 1, 2, 4]\nRequest: 3\nResulting list: [3, 0, 1, 2, 4]\nCost = 1 \n\nInitial config: [3, 0, 1, 2, 4]\nRequest: 3\nResulting list: [3, 0, 1, 2, 4]\nCost = 1 \n\nInitial config: [3, 0, 1, 2, 4]\nRequest: 3\nResulting list: [3, 0, 1, 2, 4]\nCost = 1 \n\nTOTAL COST = 23\n"
     ]
    }
   ],
   "source": [
    "config = [0, 1, 2, 3, 4]\n",
    "requests = [3, 3, 3, 3, 3, 3, 3, 3, 3, 3, 3, 3, 3, 3, 3, 3, 3, 3, 3, 3]\n",
    "\n",
    "total_cost = 0\n",
    "for req in requests:\n",
    "    print(\"Initial config:\", config)\n",
    "    print(\"Request:\", req)\n",
    "\n",
    "    config, cost = mtf(config, req)\n",
    "\n",
    "    print(\"Resulting list:\", config)\n",
    "    print(\"Cost =\", cost, \"\\n\")\n",
    "    total_cost += cost\n",
    "\n",
    "print(\"TOTAL COST =\", total_cost)"
   ]
  },
  {
   "source": [
    "¿Cuál sería la fórmula para calcular el costo de 𝑛 solicitudes del mismo elemento si éste se encuentra inicialmente en la 𝑘-ésma posición de la lista de configuración?\n",
    "* El costo es de n+k"
   ],
   "cell_type": "markdown",
   "metadata": {}
  },
  {
   "source": [
    "## Inciso F"
   ],
   "cell_type": "markdown",
   "metadata": {}
  },
  {
   "cell_type": "code",
   "execution_count": 90,
   "metadata": {},
   "outputs": [],
   "source": [
    "def imtf(_list:list, element:int, requests:list):\n",
    "    \"\"\" Move To Front algorithm. \"\"\"\n",
    "    cost = 0\n",
    "    for i, el in enumerate(_list):\n",
    "        if el == element:\n",
    "            cost = i + 1\n",
    "            if element in requests[:i]:\n",
    "                sel = _list.pop(i)\n",
    "                _list.insert(0, sel)\n",
    "\n",
    "            break\n",
    "\n",
    "    return _list, cost"
   ]
  },
  {
   "cell_type": "code",
   "execution_count": 91,
   "metadata": {},
   "outputs": [
    {
     "output_type": "stream",
     "name": "stdout",
     "text": [
      "Con IMTF el mínimo costo estaría dado por la secuencia: [0, 0, 0, 0, 0, 0, 0, 0, 0, 0, 0, 0, 0, 0, 0, 0, 0, 0, 0, 0]\nInitial config: [0, 1, 2, 3, 4]\nRequest: 0\nResulting list: [0, 1, 2, 3, 4]\nCost = 1 \n\nInitial config: [0, 1, 2, 3, 4]\nRequest: 0\nResulting list: [0, 1, 2, 3, 4]\nCost = 1 \n\nInitial config: [0, 1, 2, 3, 4]\nRequest: 0\nResulting list: [0, 1, 2, 3, 4]\nCost = 1 \n\nInitial config: [0, 1, 2, 3, 4]\nRequest: 0\nResulting list: [0, 1, 2, 3, 4]\nCost = 1 \n\nInitial config: [0, 1, 2, 3, 4]\nRequest: 0\nResulting list: [0, 1, 2, 3, 4]\nCost = 1 \n\nInitial config: [0, 1, 2, 3, 4]\nRequest: 0\nResulting list: [0, 1, 2, 3, 4]\nCost = 1 \n\nInitial config: [0, 1, 2, 3, 4]\nRequest: 0\nResulting list: [0, 1, 2, 3, 4]\nCost = 1 \n\nInitial config: [0, 1, 2, 3, 4]\nRequest: 0\nResulting list: [0, 1, 2, 3, 4]\nCost = 1 \n\nInitial config: [0, 1, 2, 3, 4]\nRequest: 0\nResulting list: [0, 1, 2, 3, 4]\nCost = 1 \n\nInitial config: [0, 1, 2, 3, 4]\nRequest: 0\nResulting list: [0, 1, 2, 3, 4]\nCost = 1 \n\nInitial config: [0, 1, 2, 3, 4]\nRequest: 0\nResulting list: [0, 1, 2, 3, 4]\nCost = 1 \n\nInitial config: [0, 1, 2, 3, 4]\nRequest: 0\nResulting list: [0, 1, 2, 3, 4]\nCost = 1 \n\nInitial config: [0, 1, 2, 3, 4]\nRequest: 0\nResulting list: [0, 1, 2, 3, 4]\nCost = 1 \n\nInitial config: [0, 1, 2, 3, 4]\nRequest: 0\nResulting list: [0, 1, 2, 3, 4]\nCost = 1 \n\nInitial config: [0, 1, 2, 3, 4]\nRequest: 0\nResulting list: [0, 1, 2, 3, 4]\nCost = 1 \n\nInitial config: [0, 1, 2, 3, 4]\nRequest: 0\nResulting list: [0, 1, 2, 3, 4]\nCost = 1 \n\nInitial config: [0, 1, 2, 3, 4]\nRequest: 0\nResulting list: [0, 1, 2, 3, 4]\nCost = 1 \n\nInitial config: [0, 1, 2, 3, 4]\nRequest: 0\nResulting list: [0, 1, 2, 3, 4]\nCost = 1 \n\nInitial config: [0, 1, 2, 3, 4]\nRequest: 0\nResulting list: [0, 1, 2, 3, 4]\nCost = 1 \n\nInitial config: [0, 1, 2, 3, 4]\nRequest: 0\nResulting list: [0, 1, 2, 3, 4]\nCost = 1 \n\nTOTAL COST = 20\n"
     ]
    }
   ],
   "source": [
    "config = [0, 1, 2, 3, 4]\n",
    "best_case = [0, 0, 0, 0, 0, 0, 0, 0, 0, 0, 0, 0, 0, 0, 0, 0, 0, 0, 0, 0]\n",
    "\n",
    "print(\"Con IMTF el mínimo costo estaría dado por la secuencia:\", best_case)\n",
    "\n",
    "total_cost = 0\n",
    "for idx in range(len(best_case)):\n",
    "    req = best_case.pop(0)\n",
    "    print(\"Initial config:\", config)\n",
    "    print(\"Request:\", req)\n",
    "\n",
    "    config, cost = imtf(config, req, best_case)\n",
    "\n",
    "    print(\"Resulting list:\", config)\n",
    "    print(\"Cost =\", cost, \"\\n\")\n",
    "    total_cost += cost\n",
    "\n",
    "print(\"TOTAL COST =\", total_cost)"
   ]
  },
  {
   "cell_type": "code",
   "execution_count": 95,
   "metadata": {},
   "outputs": [
    {
     "output_type": "stream",
     "name": "stdout",
     "text": [
      "Con IMTF el costo máximo estaría dado por la secuencia: [4, 3, 2, 1, 0, 4, 3, 2, 1, 0, 4, 3, 2, 1, 0, 4, 3, 2, 1, 0]\nInitial config: [0, 1, 2, 3, 4]\nRequest: 4\nResulting list: [0, 1, 2, 3, 4]\nCost = 5 \n\nInitial config: [0, 1, 2, 3, 4]\nRequest: 3\nResulting list: [0, 1, 2, 3, 4]\nCost = 4 \n\nInitial config: [0, 1, 2, 3, 4]\nRequest: 2\nResulting list: [0, 1, 2, 3, 4]\nCost = 3 \n\nInitial config: [0, 1, 2, 3, 4]\nRequest: 1\nResulting list: [0, 1, 2, 3, 4]\nCost = 2 \n\nInitial config: [0, 1, 2, 3, 4]\nRequest: 0\nResulting list: [0, 1, 2, 3, 4]\nCost = 1 \n\nInitial config: [0, 1, 2, 3, 4]\nRequest: 4\nResulting list: [0, 1, 2, 3, 4]\nCost = 5 \n\nInitial config: [0, 1, 2, 3, 4]\nRequest: 3\nResulting list: [0, 1, 2, 3, 4]\nCost = 4 \n\nInitial config: [0, 1, 2, 3, 4]\nRequest: 2\nResulting list: [0, 1, 2, 3, 4]\nCost = 3 \n\nInitial config: [0, 1, 2, 3, 4]\nRequest: 1\nResulting list: [0, 1, 2, 3, 4]\nCost = 2 \n\nInitial config: [0, 1, 2, 3, 4]\nRequest: 0\nResulting list: [0, 1, 2, 3, 4]\nCost = 1 \n\nInitial config: [0, 1, 2, 3, 4]\nRequest: 4\nResulting list: [0, 1, 2, 3, 4]\nCost = 5 \n\nInitial config: [0, 1, 2, 3, 4]\nRequest: 3\nResulting list: [0, 1, 2, 3, 4]\nCost = 4 \n\nInitial config: [0, 1, 2, 3, 4]\nRequest: 2\nResulting list: [0, 1, 2, 3, 4]\nCost = 3 \n\nInitial config: [0, 1, 2, 3, 4]\nRequest: 1\nResulting list: [0, 1, 2, 3, 4]\nCost = 2 \n\nInitial config: [0, 1, 2, 3, 4]\nRequest: 0\nResulting list: [0, 1, 2, 3, 4]\nCost = 1 \n\nInitial config: [0, 1, 2, 3, 4]\nRequest: 4\nResulting list: [0, 1, 2, 3, 4]\nCost = 5 \n\nInitial config: [0, 1, 2, 3, 4]\nRequest: 3\nResulting list: [0, 1, 2, 3, 4]\nCost = 4 \n\nInitial config: [0, 1, 2, 3, 4]\nRequest: 2\nResulting list: [0, 1, 2, 3, 4]\nCost = 3 \n\nInitial config: [0, 1, 2, 3, 4]\nRequest: 1\nResulting list: [0, 1, 2, 3, 4]\nCost = 2 \n\nInitial config: [0, 1, 2, 3, 4]\nRequest: 0\nResulting list: [0, 1, 2, 3, 4]\nCost = 1 \n\nTOTAL COST = 60\n"
     ]
    }
   ],
   "source": [
    "config = [0, 1, 2, 3, 4]\n",
    "worst_case = [4, 3, 2, 1, 0, 4, 3, 2, 1, 0, 4, 3, 2, 1, 0, 4, 3, 2, 1, 0]\n",
    "\n",
    "print(\"Con IMTF el costo máximo estaría dado por la secuencia:\", worst_case)\n",
    "\n",
    "total_cost = 0\n",
    "for i in range(len(worst_case)):\n",
    "    req = worst_case.pop(0)\n",
    "    print(\"Initial config:\", config)\n",
    "    print(\"Request:\", req)\n",
    "\n",
    "    config, cost = imtf(config, req, worst_case)\n",
    "\n",
    "    print(\"Resulting list:\", config)\n",
    "    print(\"Cost =\", cost, \"\\n\")\n",
    "    total_cost += cost\n",
    "\n",
    "print(\"TOTAL COST =\", total_cost)"
   ]
  },
  {
   "source": [
    "## Inciso G\n",
    "\n",
    "¿Cuál es la diferencia entre un algoritmo online y uno offline? ¿Cambiarían en algo su desempeño o su comportamiento MTF e IMTF si se usaran como algoritmos online (considere el efecto de diferentes secuencias de solicitudes)? Investigue y describa al menos un algoritmo adicional que sea online y que sirva para atender una secuencia de solicitudes de accesos.\n",
    "\n",
    "* La diferencia entre un algoritmo online y uno offline es que uno online debe de procesar su input paso por paso de forma secuencial, mientras que uno offline tiene todo el input al momento de iniciar la ejecución.\n",
    "\n",
    "* El algoritmo MTF no cambiaría, puesto que su comportamiento no depende necesariamente de las solicitudes siguientes sino que depende solamente de la configuración y la solicitud actual. Sin embargo, IMTF sí puede ser afectado puesto que depende de las siguientes i-1 solicitudes y en un momento dado es posible que no tenga acceso a todas esas solicitudes siguientes y no se pueda llegar a una decisión de si mover o no el elemento.\n",
    "\n",
    "* El algoritmo de Insertion Sort es un algoritmo online, puesto que ordena los valores mientras se está ejecutando y no requiere de ninguna información previa del input."
   ],
   "cell_type": "markdown",
   "metadata": {}
  },
  {
   "cell_type": "code",
   "execution_count": null,
   "metadata": {},
   "outputs": [],
   "source": []
  }
 ]
}